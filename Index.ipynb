{
 "cells": [
  {
   "cell_type": "markdown",
   "id": "8ab48fa4-a13d-4512-a7a2-247042201707",
   "metadata": {},
   "source": [
    "# 《动手学深度学习》\n",
    "\n",
    "![Logo](./pic/zh-d2l-ai-logo.png)\n",
    "\n",
    "第二版\n",
    "\n",
    "跳转[第一版](https://zh-v1.d2l.ai/)\n",
    "\n",
    "面向中文读者的能运行、可讨论的深度学习教科书\n",
    "\n",
    "含 PyTorch、NumPy/MXNet、TensorFlow 和 PaddlePaddle 实现\n",
    "\n",
    "被全球 70 多个国家 500 多所大学用于教学\n"
   ]
  }
 ],
 "metadata": {
  "kernelspec": {
   "display_name": "Python 3 (ipykernel)",
   "language": "python",
   "name": "python3"
  },
  "language_info": {
   "codemirror_mode": {
    "name": "ipython",
    "version": 3
   },
   "file_extension": ".py",
   "mimetype": "text/x-python",
   "name": "python",
   "nbconvert_exporter": "python",
   "pygments_lexer": "ipython3",
   "version": "3.9.7"
  }
 },
 "nbformat": 4,
 "nbformat_minor": 5
}

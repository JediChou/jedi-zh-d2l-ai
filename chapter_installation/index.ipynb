{
 "cells": [
  {
   "cell_type": "markdown",
   "id": "8c6922a0-da48-41a7-9ddc-551e68761af5",
   "metadata": {},
   "source": [
    "# 安装\n",
    "\n",
    "我们需要配置一个环境来运行 Python、Jupyter Notebook、相关库以及运行本书所需的代码，以快速入门并获得动手学习经验。\n",
    "\n"
   ]
  },
  {
   "cell_type": "markdown",
   "id": "0eb1f1ad-b16c-4433-99e3-210bd0aa0b46",
   "metadata": {},
   "source": [
    "## 安装 Miniconda\n",
    "\n",
    "最简单的方法就是安装依赖Python 3.x的[Miniconda](https://conda.io/en/latest/miniconda.html)。 如果已安装conda，则可以跳过以下步骤。访问Miniconda网站，根据Python3.x版本确定适合的版本。\n",
    "\n",
    "如果我们使用macOS，假设Python版本是3.9（我们的测试版本），将下载名称包含字符串“MacOSX”的bash脚本，并执行以下操作：\n",
    "\n",
    "```shell\n",
    "# 以Intel处理器为例，文件名可能会更改\n",
    "sh Miniconda3-py39_4.12.0-MacOSX-x86_64.sh -b\n",
    "```\n",
    "\n",
    "如果我们使用Linux，假设Python版本是3.9（我们的测试版本），将下载名称包含字符串“Linux”的bash脚本，并执行以下操作：\n",
    "\n",
    "```shell\n",
    "# 文件名可能会更改\n",
    "sh Miniconda3-py39_4.12.0-Linux-x86_64.sh -b\n",
    "```\n",
    "\n",
    "接下来，初始化终端Shell，以便我们可以直接运行conda。\n",
    "\n",
    "```shell\n",
    "~/miniconda3/bin/conda init\n",
    "```\n",
    "\n",
    "现在关闭并重新打开当前的shell。并使用下面的命令创建一个新的环境：\n",
    "\n",
    "```shell\n",
    "conda create --name d2l python=3.9 -y\n",
    "```\n",
    "\n",
    "现在激活 d2l 环境：\n",
    "\n",
    "```shell\n",
    "conda activate d2l\n",
    "```\n"
   ]
  },
  {
   "cell_type": "markdown",
   "id": "d2ebb150-5557-4bb0-bf95-7bf6759bec64",
   "metadata": {},
   "source": [
    "### 安装深度学习框架和d2l软件包\n",
    "\n",
    "在安装深度学习框架之前，请先检查计算机上是否有可用的GPU。 例如可以查看计算机是否装有NVIDIA GPU并已安装CUDA。 如果机器没有任何GPU，没有必要担心，因为CPU在前几章完全够用。 但是，如果想流畅地学习全部章节，请提早获取GPU并且安装深度学习框架的GPU版本。\n"
   ]
  },
  {
   "cell_type": "markdown",
   "id": "b527fc15-aca4-4c82-9d9e-aa2d521292d7",
   "metadata": {},
   "source": [
    "### PYTORCH\n",
    "\n",
    "我们可以按如下方式安装PyTorch的CPU或GPU版本：\n",
    "\n",
    "```shell\n",
    "pip install torch==1.12.0\n",
    "pip install torchvision==0.13.0\n",
    "```\n",
    "\n",
    "我们的下一步是安装d2l包，以方便调取本书中经常使用的函数和类：\n",
    "\n",
    "```shell\n",
    "pip install d2l==0.17.6\n",
    "```\n"
   ]
  },
  {
   "cell_type": "markdown",
   "id": "068e8123-b18d-4f1c-a3f4-89430d77da8d",
   "metadata": {},
   "source": [
    "## 下载 D2L Notebook\n",
    "\n",
    "接下来，需要下载这本书的代码。 可以点击本书HTML页面顶部的“Jupyter 记事本”选项下载后解压代码，或者可以按照如下方式进行下载：\n",
    "\n",
    "```shell\n",
    "mkdir d2l-zh && cd d2l-zh\n",
    "curl https://zh-v2.d2l.ai/d2l-zh-2.0.0.zip -o d2l-zh.zip\n",
    "unzip d2l-zh.zip && rm d2l-zh.zip\n",
    "cd pytorch\n",
    "```\n",
    "\n",
    "注意：如果没有安装unzip，则可以通过运行sudo apt install unzip进行安装。\n",
    "\n",
    "安装完成后我们可以通过运行以下命令打开Jupyter笔记本（在Window系统的命令行窗口中运行以下命令前，需先将当前路径定位到刚下载的本书代码解压后的目录）：\n",
    "\n",
    "```shell\n",
    "jupyter notebook\n",
    "```\n",
    "\n",
    "现在可以在Web浏览器中打开<http://localhost:8888>（通常会自动打开）。 由此，我们可以运行这本书中每个部分的代码。 在运行书籍代码、更新深度学习框架或d2l软件包之前，请始终执行conda activate d2l以激活运行时环境。 要退出环境，请运行conda deactivate。\n"
   ]
  }
 ],
 "metadata": {
  "kernelspec": {
   "display_name": "Python 3 (ipykernel)",
   "language": "python",
   "name": "python3"
  },
  "language_info": {
   "codemirror_mode": {
    "name": "ipython",
    "version": 3
   },
   "file_extension": ".py",
   "mimetype": "text/x-python",
   "name": "python",
   "nbconvert_exporter": "python",
   "pygments_lexer": "ipython3",
   "version": "3.9.7"
  }
 },
 "nbformat": 4,
 "nbformat_minor": 5
}

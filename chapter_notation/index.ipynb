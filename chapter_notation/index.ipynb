{
 "cells": [
  {
   "cell_type": "markdown",
   "id": "009737e0-f508-4b7c-a85d-51b0408d1281",
   "metadata": {},
   "source": [
    "# 符号\n",
    "\n",
    "本书中使用的符号概述如下。\n"
   ]
  },
  {
   "cell_type": "markdown",
   "id": "7f6ae84a-1219-48c7-8f99-5eec5d3d45ce",
   "metadata": {},
   "source": [
    "## 数字\n",
    "\n",
    "* ${x}$ : 标量\n",
    "* $\\mathbf{x}$ : 向量\n",
    "* $\\mathbf{X}$ : 矩阵\n",
    "* $\\mathsf{X}$ : 张量\n",
    "* $\\mathbf{I}$ : 单位矩阵\n",
    "* $x_i$, $[\\mathbf{x}]_i$ : 向量$\\mathbf{x}$第$i$个元素\n",
    "* $x_{ij}$, $[\\mathbf{X}]_{ij}$：矩阵$\\mathbf{X}$第$i$行第$j$列的元素\n"
   ]
  },
  {
   "cell_type": "markdown",
   "id": "d62aaae5-d140-4f0f-ae84-67cc07845684",
   "metadata": {},
   "source": [
    "## 集合论\n",
    "\n",
    "* $\\mathcal{X}$: 集合\n",
    "* $\\mathbb{Z}$: 整数集合\n",
    "* $\\mathbb{R}$: 实数集合\n",
    "* $\\mathbb{R}^n$: $n$维实数向量集合\n",
    "* $\\mathbb{R}^{a\\times b}$: 包含$a$行和$b$列的实数矩阵集合\n",
    "* $\\mathcal{A}\\cup\\mathcal{B}$: 集合$\\mathcal{A}$和$\\mathcal{B}$的并集\n",
    "* $\\mathcal{A}\\cap\\mathcal{B}$：集合$\\mathcal{A}$和$\\mathcal{B}$的交集\n",
    "* $\\mathcal{A}\\setminus\\mathcal{B}$：集合$\\mathcal{A}$与集合$\\mathcal{B}$相减，$\\mathcal{B}$关于$\\mathcal{A}$的相对补集\n"
   ]
  },
  {
   "cell_type": "markdown",
   "id": "d5b6195b-ce50-4046-86b9-424232058c31",
   "metadata": {},
   "source": [
    "## 函数和运算符\n",
    "\n",
    "* $f(\\cdot)$：函数\n",
    "* $\\log(\\cdot)$：自然对数\n",
    "* $\\exp(\\cdot)$: 指数函数"
   ]
  },
  {
   "cell_type": "code",
   "execution_count": null,
   "id": "af3fede5-d442-4b9d-a11e-c347d2e36856",
   "metadata": {},
   "outputs": [],
   "source": []
  }
 ],
 "metadata": {
  "kernelspec": {
   "display_name": "Python 3 (ipykernel)",
   "language": "python",
   "name": "python3"
  },
  "language_info": {
   "codemirror_mode": {
    "name": "ipython",
    "version": 3
   },
   "file_extension": ".py",
   "mimetype": "text/x-python",
   "name": "python",
   "nbconvert_exporter": "python",
   "pygments_lexer": "ipython3",
   "version": "3.9.7"
  }
 },
 "nbformat": 4,
 "nbformat_minor": 5
}
